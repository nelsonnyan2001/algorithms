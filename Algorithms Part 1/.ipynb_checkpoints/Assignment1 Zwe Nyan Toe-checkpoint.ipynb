{
 "cells": [
  {
   "cell_type": "markdown",
   "metadata": {},
   "source": [
    "# Assignment 1 - Zwe Nyan Toe"
   ]
  },
  {
   "cell_type": "markdown",
   "metadata": {},
   "source": [
    "Dataset Used : Kaggle New York City AirBnB Open Data (10%)\n",
    "\n",
    "Data Structures used : List, List of Lists, Tuple\n",
    "\n",
    "Algorithms used : Insertion sort, get max\n",
    "\n",
    "Question 1 : What are the top listing sorted by numbers of reviews? \n",
    "\n",
    "Question 2 : What is the listing with the highest amount of listings per host?"
   ]
  },
  {
   "cell_type": "markdown",
   "metadata": {},
   "source": [
    "## Explanations and justifications"
   ]
  },
  {
   "cell_type": "markdown",
   "metadata": {},
   "source": [
    "For the first question, two functions were produced. Both of them used insertion sort. The first function printed the top five listings by number of reviews. The second function returned the dataset sorted by number of reviews.\n",
    "\n",
    "The algorithm used complexity of O(n^2)."
   ]
  },
  {
   "cell_type": "code",
   "execution_count": 1,
   "metadata": {},
   "outputs": [],
   "source": [
    "# Analysis of first algorithm : \n",
    "\n",
    "def sort_reviews(data):\n",
    "    new_list = [] # 1 step\n",
    "    for j in range(len(data)): # n steps\n",
    "        new_list.append((data[j][0], data[j][11])) # 3n steps\n",
    "    for j in range(1, len(new_list)):  # n steps\n",
    "        current = new_list[j] # 2n steps\n",
    "        k = j # n steps\n",
    "        try: \n",
    "            while k > 0 and new_list[k - 1][1] > current[1]: # 4n steps\n",
    "                new_list[k] = new_list[k - 1] # n^2 steps\n",
    "                k -= 1 # 2n^2 steps\n",
    "        except TypeError: \n",
    "            pass # n steps\n",
    "        new_list[k] = current # 2n steps\n",
    "\n",
    "    new_list.reverse() # 1 step"
   ]
  },
  {
   "cell_type": "markdown",
   "metadata": {},
   "source": [
    "For the second question, only one function was involved. This function used an algorithm to find the listing with the most listings per host. It returned an array that involved all the fields for the listing with the most listings per host.\n",
    "\n",
    "It has linear runtime complexity, O(N)."
   ]
  },
  {
   "cell_type": "code",
   "execution_count": 2,
   "metadata": {},
   "outputs": [],
   "source": [
    "# Analysis of the second algorithm:\n",
    "\n",
    "def most_listings_host(data):\n",
    "    current_most = data[1][14] # 3 steps\n",
    "    most_index = 0 # 1 step\n",
    "\n",
    "    for i in range(1, len(data)): # n steps\n",
    "        if data[i][14] > current_most: # 2n steps\n",
    "            current_most = data[i][14] # 3n steps\n",
    "            most_index = i # n steps\n",
    "\n",
    "    return data[most_index] #n steps\n"
   ]
  },
  {
   "cell_type": "markdown",
   "metadata": {},
   "source": [
    "# Solution"
   ]
  },
  {
   "cell_type": "code",
   "execution_count": 3,
   "metadata": {},
   "outputs": [
    {
     "name": "stdout",
     "output_type": "stream",
     "text": [
      "Top 5 number of reviews can be found at the following indexes:\n",
      "Index 903947 with the value 597\n",
      "Index 891117 with the value 594\n",
      "Index 834190 with the value 540\n",
      "Index 3474320 with the value 488\n",
      "Index 166172 with the value 480\n",
      "[3359510, 'Gorgeous Loft w/ 2 queen beds & full kitchen!', 7503643, 'Vida', 'Brooklyn', 'Greenpoint', 40.72428, -73.94348, 'Entire home/apt', 129, 30, 15, '2019-06-30', 0.27, 52, 157]\n"
     ]
    }
   ],
   "source": [
    "import csv\n",
    "\n",
    "\n",
    "# ['id', 'name', 'host_id', 'host_name', 'neighbourhood_group', 'neighbourhood', 'latitude', 'longitude', 'room_type',\n",
    "# 'price', 'minimum_nights', 'number_of_reviews', 'last_review', 'reviews_per_month', 'calculated_host_listings_count',\n",
    "# 'availability_365']\n",
    "\n",
    "# Loading data into a list of lists, since csv file contains all strings only, converted ints and floats to their\n",
    "# correct types before appending.\n",
    "\n",
    "def read_file():\n",
    "    with open('AB_NYC_2019.csv') as csv_file:\n",
    "        whole_file = csv.reader(csv_file, delimiter=\",\")\n",
    "        raw_data = []\n",
    "        for row in whole_file:\n",
    "            newRow = []\n",
    "            for each in row:\n",
    "                if each.isdigit():\n",
    "                    newRow.append(int(each))\n",
    "                else:\n",
    "                    try:\n",
    "                        newRow.append(float(each))\n",
    "                    except ValueError:\n",
    "                        newRow.append(each)\n",
    "            raw_data.append(newRow)\n",
    "\n",
    "        data = raw_data[:int(len(raw_data) / 10)]\n",
    "\n",
    "    return data\n",
    "\n",
    "\n",
    "# The first algorithm will sort the given data by number of reviews. Note that it can be sorted by any integer-based\n",
    "# column by changing index from number 11 to any index.\n",
    "\n",
    "\n",
    "def sort_reviews(data):\n",
    "    new_list = []\n",
    "    for j in range(len(data)):\n",
    "        new_list.append((data[j][0], data[j][11]))\n",
    "    for j in range(1, len(new_list)):  # Insertion sort algorithm to sort the list by price\n",
    "        current = new_list[j]\n",
    "        k = j\n",
    "        try:  # error checking : first nested array is the description of columns\n",
    "            while k > 0 and new_list[k - 1][1] > current[1]:\n",
    "                new_list[k] = new_list[k - 1]\n",
    "                k -= 1\n",
    "        except TypeError:\n",
    "            pass\n",
    "        new_list[k] = current\n",
    "\n",
    "    new_list.reverse()  # Reversed the list, since original list was sorted in ascending order.\n",
    "\n",
    "    print(\"Top 5 number of reviews can be found at the following indexes:\")\n",
    "    print(\"Index {} with the value {}\".format(new_list[1][0], new_list[1][1]))\n",
    "    print(\"Index {} with the value {}\".format(new_list[2][0], new_list[2][1]))\n",
    "    print(\"Index {} with the value {}\".format(new_list[3][0], new_list[3][1]))\n",
    "    print(\"Index {} with the value {}\".format(new_list[4][0], new_list[4][1]))\n",
    "    print(\"Index {} with the value {}\".format(new_list[5][0], new_list[5][1]))\n",
    "\n",
    "\n",
    "# This is the same algorithm as above - however, it returns a list of sorted listings by reviews.\n",
    "\n",
    "\n",
    "def sorted_array_by_reviews(data):\n",
    "    volatile_data = data  # create a temporary list so that original data array isn't interfered with.\n",
    "    for i in range(len(volatile_data)):  # Insertion sort algorithm to sort the list by price\n",
    "        current = volatile_data[i]\n",
    "        j = i\n",
    "        try:  # error checking : first nested array is the description of columns\n",
    "            while j > 0 and volatile_data[j - 1][11] > current[11]:\n",
    "                volatile_data[j] = volatile_data[j - 1]\n",
    "                j -= 1\n",
    "        except TypeError:\n",
    "            pass\n",
    "        volatile_data[j] = current\n",
    "\n",
    "    volatile_data.reverse()  # Reversed the list, since original list was sorted in ascending order.\n",
    "\n",
    "    return volatile_data\n",
    "\n",
    "\n",
    "# The second algorithm will give the listing with the most listing per host. Like the previous algorithm, the category\n",
    "#  can be any integer based column, changed by simply changing the index number 14 to any index with of integer type.\n",
    "\n",
    "\n",
    "def most_listings_host(data):\n",
    "    current_most = data[1][14]\n",
    "    most_index = 0\n",
    "\n",
    "    try:\n",
    "        for i in range(1, len(data)):\n",
    "            if data[i][14] > current_most:\n",
    "                current_most = data[i][14]\n",
    "                most_index = i\n",
    "    except TypeError:\n",
    "        pass\n",
    "\n",
    "    return data[most_index]\n",
    "\n",
    "\n",
    "def main():\n",
    "    data = read_file()\n",
    "    sort_reviews(data)\n",
    "    sorted_array_by_reviews(data)\n",
    "    print(most_listings_host(data))\n",
    "\n",
    "\n",
    "if __name__ == '__main__':\n",
    "    main()\n"
   ]
  },
  {
   "cell_type": "code",
   "execution_count": null,
   "metadata": {},
   "outputs": [],
   "source": []
  }
 ],
 "metadata": {
  "kernelspec": {
   "display_name": "Python 3",
   "language": "python",
   "name": "python3"
  },
  "language_info": {
   "codemirror_mode": {
    "name": "ipython",
    "version": 3
   },
   "file_extension": ".py",
   "mimetype": "text/x-python",
   "name": "python",
   "nbconvert_exporter": "python",
   "pygments_lexer": "ipython3",
   "version": "3.7.7"
  }
 },
 "nbformat": 4,
 "nbformat_minor": 4
}
